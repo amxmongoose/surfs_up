{
 "cells": [
  {
   "cell_type": "code",
   "execution_count": 1,
   "metadata": {},
   "outputs": [],
   "source": [
    "# Python SQL toolkit and Object Relational Mapper\n",
    "import sqlalchemy\n",
    "from sqlalchemy.ext.automap import automap_base\n",
    "from sqlalchemy.orm import Session\n",
    "from sqlalchemy import create_engine\n",
    "from sqlalchemy import create_engine, inspect, func\n",
    "\n",
    "import datetime as dt\n",
    "import pandas as pd\n",
    "\n",
    "from flask import Flask, jsonify\n",
    "\n",
    "import matplotlib.pyplot as plt\n",
    "import seaborn as sea"
   ]
  },
  {
   "cell_type": "markdown",
   "metadata": {},
   "source": [
    "## Set up sqlite engine and bring in existing database information"
   ]
  },
  {
   "cell_type": "code",
   "execution_count": 2,
   "metadata": {},
   "outputs": [],
   "source": [
    "#Use SQLAlchemy `create_engine` to connect to your sqlite database.\n",
    "engine = create_engine(\"sqlite:///hawaii.sqlite\")"
   ]
  },
  {
   "cell_type": "code",
   "execution_count": 3,
   "metadata": {},
   "outputs": [],
   "source": [
    "Base = automap_base()"
   ]
  },
  {
   "cell_type": "code",
   "execution_count": 4,
   "metadata": {},
   "outputs": [],
   "source": [
    "Base.prepare(engine, reflect = True)"
   ]
  },
  {
   "cell_type": "code",
   "execution_count": 5,
   "metadata": {},
   "outputs": [],
   "source": [
    "Measurement = Base.classes.Measurement\n",
    "Station = Base.classes.Station"
   ]
  },
  {
   "cell_type": "code",
   "execution_count": 6,
   "metadata": {},
   "outputs": [],
   "source": [
    "session = Session(bind=engine)"
   ]
  },
  {
   "cell_type": "markdown",
   "metadata": {},
   "source": [
    "## Manipulate data and put in graphical form\n",
    "#To check data\n",
    "#first_row = session.query(Measurement).first()\n",
    "#first_row.__dict__\n",
    "#Check Class Keys\n",
    "#Base.classes.keys()\n",
    "#session.query(Measurement.date).first()"
   ]
  },
  {
   "cell_type": "code",
   "execution_count": 10,
   "metadata": {},
   "outputs": [],
   "source": [
    "prcp_data = [Measurement.date,Measurement.prcp]"
   ]
  },
  {
   "cell_type": "code",
   "execution_count": 11,
   "metadata": {},
   "outputs": [],
   "source": [
    "results = session.query(Measurement).all()\n",
    "all_measure = []\n",
    "\n",
    "for measure in results:\n",
    "    measure_dict = {}\n",
    "    measure_dict[\"date\"] = Measurement.date\n",
    "    measure_dict[\"tobs\"] = Measurement.tobs\n",
    "    all_measure.append(measure_dict)"
   ]
  },
  {
   "cell_type": "code",
   "execution_count": 7,
   "metadata": {},
   "outputs": [
    {
     "data": {
      "text/html": [
       "<div>\n",
       "<style scoped>\n",
       "    .dataframe tbody tr th:only-of-type {\n",
       "        vertical-align: middle;\n",
       "    }\n",
       "\n",
       "    .dataframe tbody tr th {\n",
       "        vertical-align: top;\n",
       "    }\n",
       "\n",
       "    .dataframe thead th {\n",
       "        text-align: right;\n",
       "    }\n",
       "</style>\n",
       "<table border=\"1\" class=\"dataframe\">\n",
       "  <thead>\n",
       "    <tr style=\"text-align: right;\">\n",
       "      <th></th>\n",
       "      <th>Precipitation</th>\n",
       "    </tr>\n",
       "    <tr>\n",
       "      <th>Date</th>\n",
       "      <th></th>\n",
       "    </tr>\n",
       "  </thead>\n",
       "  <tbody>\n",
       "    <tr>\n",
       "      <th>2017-04-07</th>\n",
       "      <td>0.0</td>\n",
       "    </tr>\n",
       "  </tbody>\n",
       "</table>\n",
       "</div>"
      ],
      "text/plain": [
       "            Precipitation\n",
       "Date                     \n",
       "2017-04-07            0.0"
      ]
     },
     "execution_count": 7,
     "metadata": {},
     "output_type": "execute_result"
    }
   ],
   "source": [
    "prcp_year = session.query(Measurement.date, Measurement.prcp).\\\n",
    "filter(Measurement.date >= (dt.date.today() - dt.timedelta(days=365))).all()\n",
    "prcp_df = pd.DataFrame(prcp_year, columns=['Date', 'Precipitation'])\n",
    "prcp_df.set_index('Date', inplace=True)\n",
    "prcp_df = prcp_df.dropna()\n",
    "prcp_df.head(1)"
   ]
  },
  {
   "cell_type": "code",
   "execution_count": 12,
   "metadata": {},
   "outputs": [
    {
     "data": {
      "image/png": "[encoded data removed]",
      "text/plain": [
       "<matplotlib.figure.Figure at 0x109fc86a0>"
      ]
     },
     "metadata": {},
     "output_type": "display_data"
    }
   ],
   "source": [
    "x = range(len(prcp_df.index.values))\n",
    "y = prcp_df['Precipitation']\n",
    "\n",
    "plt.bar(x, y, width = 40)\n",
    "labels= prcp_df.index.values\n",
    "plt.xticks(range(len(prcp_df.index.values)), labels, rotation=45)\n",
    "\n",
    "plt.legend(prcp_df['Precipitation'], \n",
    "                title = ('Precipitation'), \n",
    "                bbox_to_anchor = (1,1), \n",
    "                fancybox = True,\n",
    "                fontsize = 8)\n",
    "\n",
    "plt.title(\"Precipitation\")\n",
    "plt.locator_params(nbins=12, axis= 'x')\n",
    "plt.ylabel('Inches')\n",
    "plt.xlabel('Month')\n",
    "sea.set()\n",
    "\n",
    "plt.show()"
   ]
  },
  {
   "cell_type": "code",
   "execution_count": 104,
   "metadata": {},
   "outputs": [
    {
     "name": "stdout",
     "output_type": "stream",
     "text": [
      "There are 9 stations\n"
     ]
    }
   ],
   "source": [
    "station_list = session.query(Station.id,Station.name).all()\n",
    "station_df = pd.DataFrame(station_list, columns=['ID','Name'])\n",
    "print('There are ' + str(len(station_df['ID'])) + ' stations')"
   ]
  },
  {
   "cell_type": "code",
   "execution_count": 106,
   "metadata": {},
   "outputs": [
    {
     "data": {
      "text/html": [
       "<div>\n",
       "<style scoped>\n",
       "    .dataframe tbody tr th:only-of-type {\n",
       "        vertical-align: middle;\n",
       "    }\n",
       "\n",
       "    .dataframe tbody tr th {\n",
       "        vertical-align: top;\n",
       "    }\n",
       "\n",
       "    .dataframe thead th {\n",
       "        text-align: right;\n",
       "    }\n",
       "</style>\n",
       "<table border=\"1\" class=\"dataframe\">\n",
       "  <thead>\n",
       "    <tr style=\"text-align: right;\">\n",
       "      <th></th>\n",
       "      <th>Station</th>\n",
       "      <th>TotalObs</th>\n",
       "    </tr>\n",
       "  </thead>\n",
       "  <tbody>\n",
       "    <tr>\n",
       "      <th>0</th>\n",
       "      <td>USC00519281</td>\n",
       "      <td>2772</td>\n",
       "    </tr>\n",
       "  </tbody>\n",
       "</table>\n",
       "</div>"
      ],
      "text/plain": [
       "       Station  TotalObs\n",
       "0  USC00519281      2772"
      ]
     },
     "execution_count": 106,
     "metadata": {},
     "output_type": "execute_result"
    }
   ],
   "source": [
    "station_obs = [Measurement.station, \n",
    "               func.count(Measurement.tobs)]\n",
    "\n",
    "station_df = session.query(*station_obs).\\\n",
    "group_by(Measurement.station).all()\n",
    "\n",
    "station_obs_df = pd.DataFrame(station_df, columns = ['Station', 'TotalObs'])\n",
    "\n",
    "station_obs_df= station_obs_df.sort_values(by = 'TotalObs', ascending=False)\n",
    "station_obs_df = station_obs_df.reset_index(drop=True)\n",
    "station_obs_df.head(1)"
   ]
  },
  {
   "cell_type": "code",
   "execution_count": 18,
   "metadata": {},
   "outputs": [
    {
     "name": "stdout",
     "output_type": "stream",
     "text": [
      "Station USC00519281 has the highest number of observations with 2772.\n"
     ]
    }
   ],
   "source": [
    "print(f\"Station {station_obs_df['Station'][0]} has the highest number of observations with {station_obs_df['TotalObs'][0]}.\")"
   ]
  },
  {
   "cell_type": "code",
   "execution_count": 19,
   "metadata": {},
   "outputs": [],
   "source": [
    "station_max = station_obs_df['Station'][0]"
   ]
  },
  {
   "cell_type": "code",
   "execution_count": 107,
   "metadata": {},
   "outputs": [
    {
     "data": {
      "text/html": [
       "<div>\n",
       "<style scoped>\n",
       "    .dataframe tbody tr th:only-of-type {\n",
       "        vertical-align: middle;\n",
       "    }\n",
       "\n",
       "    .dataframe tbody tr th {\n",
       "        vertical-align: top;\n",
       "    }\n",
       "\n",
       "    .dataframe thead th {\n",
       "        text-align: right;\n",
       "    }\n",
       "</style>\n",
       "<table border=\"1\" class=\"dataframe\">\n",
       "  <thead>\n",
       "    <tr style=\"text-align: right;\">\n",
       "      <th></th>\n",
       "      <th>Station</th>\n",
       "      <th>TotalObs</th>\n",
       "      <th>Date</th>\n",
       "    </tr>\n",
       "  </thead>\n",
       "  <tbody>\n",
       "    <tr>\n",
       "      <th>0</th>\n",
       "      <td>USC00519281</td>\n",
       "      <td>74</td>\n",
       "      <td>2017-04-07</td>\n",
       "    </tr>\n",
       "  </tbody>\n",
       "</table>\n",
       "</div>"
      ],
      "text/plain": [
       "       Station  TotalObs        Date\n",
       "0  USC00519281        74  2017-04-07"
      ]
     },
     "execution_count": 107,
     "metadata": {},
     "output_type": "execute_result"
    }
   ],
   "source": [
    "max_station = session.query(Measurement.station, Measurement.tobs,Measurement.date).\\\n",
    "filter(Measurement.date >= (dt.date.today() - dt.timedelta(days=365))).\\\n",
    "filter(Measurement.station == station_max).all()\n",
    "max_station_df = pd.DataFrame(max_station, columns=['Station', 'TotalObs', 'Date'])\n",
    "max_station_df.head(1)"
   ]
  },
  {
   "cell_type": "code",
   "execution_count": 21,
   "metadata": {},
   "outputs": [
    {
     "data": {
      "image/png": "[encoded data removed]",
      "text/plain": [
       "<matplotlib.figure.Figure at 0x1061f8978>"
      ]
     },
     "metadata": {},
     "output_type": "display_data"
    }
   ],
   "source": [
    "y = max_station_df['TotalObs']\n",
    "plt.hist(y)\n",
    "labels= max_station_df.index.values\n",
    "plt.title(\"Max Observations\")\n",
    "plt.locator_params(nbins=12, axis= 'x')\n",
    "plt.ylabel('Frequency')\n",
    "plt.xlabel('Month')\n",
    "sea.set()\n",
    "plt.save(\"Max_Obs.png\")\n",
    "\n",
    "plt.show()"
   ]
  },
  {
   "cell_type": "code",
   "execution_count": 63,
   "metadata": {},
   "outputs": [],
   "source": [
    "start_date = '2017-01-01'\n",
    "end_date = '2017-12-31'\n",
    "\n",
    "def calc_temps (start_date, end_date):\n",
    "    \n",
    "    minimum_temp = session.query(func.min(Measurement.tobs)).\\\n",
    "    filter(Measurement.date >= start_date).\\\n",
    "    filter(Measurement.date <= end_date).all()\n",
    "    \n",
    "    average_temp = session.query(func.avg(Measurement.tobs)).\\\n",
    "    filter(Measurement.date >= start_date).\\\n",
    "    filter(Measurement.date <= end_date).all()\n",
    "    \n",
    "    maximum_temp = session.query(func.max(Measurement.tobs)).\\\n",
    "    filter(Measurement.date >= start_date).\\\n",
    "    filter(Measurement.date <= end_date).all()\n",
    "    \n",
    "    return minimum_temp, maximum_temp, average_temp\n",
    "    \n",
    "temperature = calc_temps(start_date, end_date)\n",
    "\n",
    "\n",
    "Minimum = temperature[0][0][0]\n",
    "Average = temperature[1][0][0]\n",
    "Maximum = temperature[2][0][0]\n",
    "\n",
    "temp_dict = {'Minimum':Minimum, \n",
    "             'Average': Average, \n",
    "             'Maximum': Maximum}"
   ]
  },
  {
   "cell_type": "code",
   "execution_count": 99,
   "metadata": {},
   "outputs": [],
   "source": [
    "temp_df = pd.Series(temp_dict,index=temp_dict.keys())"
   ]
  },
  {
   "cell_type": "code",
   "execution_count": 109,
   "metadata": {},
   "outputs": [
    {
     "data": {
      "image/png": "[encoded data removed]",
      "text/plain": [
       "<matplotlib.figure.Figure at 0x1a1aba0908>"
      ]
     },
     "metadata": {},
     "output_type": "display_data"
    }
   ],
   "source": [
    "sea.boxplot(y = temp_df, width=.15)\n",
    "\n",
    "plt.title('Temperature Fluxuation')\n",
    "plt.xlabel('Station Temperature Data')\n",
    "plt.ylabel('Temperature (F)')\n",
    "sea.set()\n",
    "\n",
    "plt.show()"
   ]
  },
  {
   "cell_type": "code",
   "execution_count": null,
   "metadata": {},
   "outputs": [],
   "source": []
  }
 ],
 "metadata": {
  "kernelspec": {
   "display_name": "Python [conda env:myenvironment]",
   "language": "python",
   "name": "conda-env-myenvironment-py"
  },
  "language_info": {
   "codemirror_mode": {
    "name": "ipython",
    "version": 3
   },
   "file_extension": ".py",
   "mimetype": "text/x-python",
   "name": "python",
   "nbconvert_exporter": "python",
   "pygments_lexer": "ipython3",
   "version": "3.6.4"
  }
 },
 "nbformat": 4,
 "nbformat_minor": 2
}
