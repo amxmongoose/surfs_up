{
 "cells": [
  {
   "cell_type": "code",
   "execution_count": 1,
   "metadata": {},
   "outputs": [],
   "source": [
    "import pandas as pd\n",
    "import os"
   ]
  },
  {
   "cell_type": "code",
   "execution_count": 2,
   "metadata": {},
   "outputs": [],
   "source": [
    "#read in the measurement and station CSV files as DataFrames\n",
    "measurements_path = os.path.join('Instructions', 'Resources', 'hawaii_measurements.csv')\n",
    "measurements_df = pd.read_csv(measurements_path, skipinitialspace=True)\n",
    "\n",
    "stations_path = os.path.join('Instructions', 'Resources', 'hawaii_stations.csv')\n",
    "stations_df = pd.read_csv(stations_path, skipinitialspace=True)"
   ]
  },
  {
   "cell_type": "code",
   "execution_count": 3,
   "metadata": {},
   "outputs": [],
   "source": [
    "#Clean CSV files\n",
    "measurements_df = measurements_df.fillna('')\n",
    "stations_df = stations_df.fillna('')"
   ]
  },
  {
   "cell_type": "code",
   "execution_count": 4,
   "metadata": {},
   "outputs": [],
   "source": [
    "#Save your cleaned CSV files with the prefix `clean_`\n",
    "stations_df.to_csv('clean_hawaii_stations_df.csv',index=False)\n",
    "measurements_df.to_csv('clean_measurements_df.csv',index=False)"
   ]
  },
  {
   "cell_type": "code",
   "execution_count": null,
   "metadata": {},
   "outputs": [],
   "source": []
  }
 ],
 "metadata": {
  "kernelspec": {
   "display_name": "Python [conda env:myenvironment]",
   "language": "python",
   "name": "conda-env-myenvironment-py"
  },
  "language_info": {
   "codemirror_mode": {
    "name": "ipython",
    "version": 3
   },
   "file_extension": ".py",
   "mimetype": "text/x-python",
   "name": "python",
   "nbconvert_exporter": "python",
   "pygments_lexer": "ipython3",
   "version": "3.6.4"
  }
 },
 "nbformat": 4,
 "nbformat_minor": 2
}
